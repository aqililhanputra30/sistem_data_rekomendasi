{
  "nbformat": 4,
  "nbformat_minor": 0,
  "metadata": {
    "colab": {
      "provenance": [],
      "toc_visible": true,
      "authorship_tag": "ABX9TyPbxYLa8jklISOvZAct/tgr",
      "include_colab_link": true
    },
    "kernelspec": {
      "name": "python3",
      "display_name": "Python 3"
    },
    "language_info": {
      "name": "python"
    }
  },
  "cells": [
    {
      "cell_type": "markdown",
      "metadata": {
        "id": "view-in-github",
        "colab_type": "text"
      },
      "source": [
        "<a href=\"https://colab.research.google.com/github/aqililhanputra30/sistem_data_rekomendasi/blob/main/rekomendasi_0030.ipynb\" target=\"_parent\"><img src=\"https://colab.research.google.com/assets/colab-badge.svg\" alt=\"Open In Colab\"/></a>"
      ]
    },
    {
      "cell_type": "code",
      "source": [
        "import pandas as pd\n",
        "import numpy as np\n",
        "from sklearn.metrics.pairwise import cosine_similarity\n",
        "from sklearn.feature_extraction.text import TfidfVectorizer\n",
        "from nltk.corpus import stopwords\n",
        "import re\n",
        "import random\n",
        "\n",
        "df = pd.read_csv(\"https://raw.githubusercontent.com/aqililhanputra30/sistem_data_rekomendasi/main/rekomendasi.csv\")\n",
        "df.head()"
      ],
      "metadata": {
        "colab": {
          "base_uri": "https://localhost:8080/",
          "height": 320
        },
        "id": "8CEIkbbZEzf6",
        "outputId": "b3d42b97-384a-4d70-e94f-59fde5f7caa5"
      },
      "execution_count": 2,
      "outputs": [
        {
          "output_type": "execute_result",
          "data": {
            "text/plain": [
              "                                    Mitra  \\\n",
              "0                        Aqil Ilhan Putra   \n",
              "1  PT Bank Negara Indonesia (Persero) Tbk   \n",
              "2               PT Zona Edukasi Nusantara   \n",
              "3                 PT Global Tiket Network   \n",
              "4   PT. IlmuKomputerCom Braindevs Sistema   \n",
              "\n",
              "                                              Alamat  \\\n",
              "0  JL. Sriwijaya Genuk Baru RT02 RW06,Kec.Tegalsa...   \n",
              "1  Gedung Grha BNI, Jl. Jend. Sudirman No.10, RT....   \n",
              "2  Graha Aktiva, Ground Floor Jalan HR Rasuna Sai...   \n",
              "3  Wisma Barito Pacific II Lantai. 8, Jalan Letna...   \n",
              "4  Menara Bidakara 1 Lantai 2, Jl. Gatot Subroto ...   \n",
              "\n",
              "                                               Modul  \n",
              "0   Pemrograman Web Jaringan Komputer Sistem Oper...  \n",
              "1  Can do attitude Blender Unity Microservices Wi...  \n",
              "2  Kemampuan Literasi Kemampuan Numerasi Komunika...  \n",
              "3  Mastery Design Producing Results Business Know...  \n",
              "4  Critical Thinking Team Work Communication Skil...  "
            ],
            "text/html": [
              "\n",
              "  <div id=\"df-140444e5-0f5c-473b-862b-915f285065fa\">\n",
              "    <div class=\"colab-df-container\">\n",
              "      <div>\n",
              "<style scoped>\n",
              "    .dataframe tbody tr th:only-of-type {\n",
              "        vertical-align: middle;\n",
              "    }\n",
              "\n",
              "    .dataframe tbody tr th {\n",
              "        vertical-align: top;\n",
              "    }\n",
              "\n",
              "    .dataframe thead th {\n",
              "        text-align: right;\n",
              "    }\n",
              "</style>\n",
              "<table border=\"1\" class=\"dataframe\">\n",
              "  <thead>\n",
              "    <tr style=\"text-align: right;\">\n",
              "      <th></th>\n",
              "      <th>Mitra</th>\n",
              "      <th>Alamat</th>\n",
              "      <th>Modul</th>\n",
              "    </tr>\n",
              "  </thead>\n",
              "  <tbody>\n",
              "    <tr>\n",
              "      <th>0</th>\n",
              "      <td>Aqil Ilhan Putra</td>\n",
              "      <td>JL. Sriwijaya Genuk Baru RT02 RW06,Kec.Tegalsa...</td>\n",
              "      <td>Pemrograman Web Jaringan Komputer Sistem Oper...</td>\n",
              "    </tr>\n",
              "    <tr>\n",
              "      <th>1</th>\n",
              "      <td>PT Bank Negara Indonesia (Persero) Tbk</td>\n",
              "      <td>Gedung Grha BNI, Jl. Jend. Sudirman No.10, RT....</td>\n",
              "      <td>Can do attitude Blender Unity Microservices Wi...</td>\n",
              "    </tr>\n",
              "    <tr>\n",
              "      <th>2</th>\n",
              "      <td>PT Zona Edukasi Nusantara</td>\n",
              "      <td>Graha Aktiva, Ground Floor Jalan HR Rasuna Sai...</td>\n",
              "      <td>Kemampuan Literasi Kemampuan Numerasi Komunika...</td>\n",
              "    </tr>\n",
              "    <tr>\n",
              "      <th>3</th>\n",
              "      <td>PT Global Tiket Network</td>\n",
              "      <td>Wisma Barito Pacific II Lantai. 8, Jalan Letna...</td>\n",
              "      <td>Mastery Design Producing Results Business Know...</td>\n",
              "    </tr>\n",
              "    <tr>\n",
              "      <th>4</th>\n",
              "      <td>PT. IlmuKomputerCom Braindevs Sistema</td>\n",
              "      <td>Menara Bidakara 1 Lantai 2, Jl. Gatot Subroto ...</td>\n",
              "      <td>Critical Thinking Team Work Communication Skil...</td>\n",
              "    </tr>\n",
              "  </tbody>\n",
              "</table>\n",
              "</div>\n",
              "      <button class=\"colab-df-convert\" onclick=\"convertToInteractive('df-140444e5-0f5c-473b-862b-915f285065fa')\"\n",
              "              title=\"Convert this dataframe to an interactive table.\"\n",
              "              style=\"display:none;\">\n",
              "        \n",
              "  <svg xmlns=\"http://www.w3.org/2000/svg\" height=\"24px\"viewBox=\"0 0 24 24\"\n",
              "       width=\"24px\">\n",
              "    <path d=\"M0 0h24v24H0V0z\" fill=\"none\"/>\n",
              "    <path d=\"M18.56 5.44l.94 2.06.94-2.06 2.06-.94-2.06-.94-.94-2.06-.94 2.06-2.06.94zm-11 1L8.5 8.5l.94-2.06 2.06-.94-2.06-.94L8.5 2.5l-.94 2.06-2.06.94zm10 10l.94 2.06.94-2.06 2.06-.94-2.06-.94-.94-2.06-.94 2.06-2.06.94z\"/><path d=\"M17.41 7.96l-1.37-1.37c-.4-.4-.92-.59-1.43-.59-.52 0-1.04.2-1.43.59L10.3 9.45l-7.72 7.72c-.78.78-.78 2.05 0 2.83L4 21.41c.39.39.9.59 1.41.59.51 0 1.02-.2 1.41-.59l7.78-7.78 2.81-2.81c.8-.78.8-2.07 0-2.86zM5.41 20L4 18.59l7.72-7.72 1.47 1.35L5.41 20z\"/>\n",
              "  </svg>\n",
              "      </button>\n",
              "      \n",
              "  <style>\n",
              "    .colab-df-container {\n",
              "      display:flex;\n",
              "      flex-wrap:wrap;\n",
              "      gap: 12px;\n",
              "    }\n",
              "\n",
              "    .colab-df-convert {\n",
              "      background-color: #E8F0FE;\n",
              "      border: none;\n",
              "      border-radius: 50%;\n",
              "      cursor: pointer;\n",
              "      display: none;\n",
              "      fill: #1967D2;\n",
              "      height: 32px;\n",
              "      padding: 0 0 0 0;\n",
              "      width: 32px;\n",
              "    }\n",
              "\n",
              "    .colab-df-convert:hover {\n",
              "      background-color: #E2EBFA;\n",
              "      box-shadow: 0px 1px 2px rgba(60, 64, 67, 0.3), 0px 1px 3px 1px rgba(60, 64, 67, 0.15);\n",
              "      fill: #174EA6;\n",
              "    }\n",
              "\n",
              "    [theme=dark] .colab-df-convert {\n",
              "      background-color: #3B4455;\n",
              "      fill: #D2E3FC;\n",
              "    }\n",
              "\n",
              "    [theme=dark] .colab-df-convert:hover {\n",
              "      background-color: #434B5C;\n",
              "      box-shadow: 0px 1px 3px 1px rgba(0, 0, 0, 0.15);\n",
              "      filter: drop-shadow(0px 1px 2px rgba(0, 0, 0, 0.3));\n",
              "      fill: #FFFFFF;\n",
              "    }\n",
              "  </style>\n",
              "\n",
              "      <script>\n",
              "        const buttonEl =\n",
              "          document.querySelector('#df-140444e5-0f5c-473b-862b-915f285065fa button.colab-df-convert');\n",
              "        buttonEl.style.display =\n",
              "          google.colab.kernel.accessAllowed ? 'block' : 'none';\n",
              "\n",
              "        async function convertToInteractive(key) {\n",
              "          const element = document.querySelector('#df-140444e5-0f5c-473b-862b-915f285065fa');\n",
              "          const dataTable =\n",
              "            await google.colab.kernel.invokeFunction('convertToInteractive',\n",
              "                                                     [key], {});\n",
              "          if (!dataTable) return;\n",
              "\n",
              "          const docLinkHtml = 'Like what you see? Visit the ' +\n",
              "            '<a target=\"_blank\" href=https://colab.research.google.com/notebooks/data_table.ipynb>data table notebook</a>'\n",
              "            + ' to learn more about interactive tables.';\n",
              "          element.innerHTML = '';\n",
              "          dataTable['output_type'] = 'display_data';\n",
              "          await google.colab.output.renderOutput(dataTable, element);\n",
              "          const docLink = document.createElement('div');\n",
              "          docLink.innerHTML = docLinkHtml;\n",
              "          element.appendChild(docLink);\n",
              "        }\n",
              "      </script>\n",
              "    </div>\n",
              "  </div>\n",
              "  "
            ]
          },
          "metadata": {},
          "execution_count": 2
        }
      ]
    },
    {
      "cell_type": "code",
      "source": [
        "df.describe()"
      ],
      "metadata": {
        "colab": {
          "base_uri": "https://localhost:8080/",
          "height": 175
        },
        "id": "dT2Ub4vFF_1F",
        "outputId": "f8645b5c-8fb0-4186-c40f-26110aff8935"
      },
      "execution_count": 3,
      "outputs": [
        {
          "output_type": "execute_result",
          "data": {
            "text/plain": [
              "                   Mitra                                             Alamat  \\\n",
              "count                 10                                                 10   \n",
              "unique                10                                                 10   \n",
              "top     Aqil Ilhan Putra  JL. Sriwijaya Genuk Baru RT02 RW06,Kec.Tegalsa...   \n",
              "freq                   1                                                  1   \n",
              "\n",
              "                                                    Modul  \n",
              "count                                                  10  \n",
              "unique                                                 10  \n",
              "top      Pemrograman Web Jaringan Komputer Sistem Oper...  \n",
              "freq                                                    1  "
            ],
            "text/html": [
              "\n",
              "  <div id=\"df-78123ba3-77f8-4277-9780-beb90bd0b959\">\n",
              "    <div class=\"colab-df-container\">\n",
              "      <div>\n",
              "<style scoped>\n",
              "    .dataframe tbody tr th:only-of-type {\n",
              "        vertical-align: middle;\n",
              "    }\n",
              "\n",
              "    .dataframe tbody tr th {\n",
              "        vertical-align: top;\n",
              "    }\n",
              "\n",
              "    .dataframe thead th {\n",
              "        text-align: right;\n",
              "    }\n",
              "</style>\n",
              "<table border=\"1\" class=\"dataframe\">\n",
              "  <thead>\n",
              "    <tr style=\"text-align: right;\">\n",
              "      <th></th>\n",
              "      <th>Mitra</th>\n",
              "      <th>Alamat</th>\n",
              "      <th>Modul</th>\n",
              "    </tr>\n",
              "  </thead>\n",
              "  <tbody>\n",
              "    <tr>\n",
              "      <th>count</th>\n",
              "      <td>10</td>\n",
              "      <td>10</td>\n",
              "      <td>10</td>\n",
              "    </tr>\n",
              "    <tr>\n",
              "      <th>unique</th>\n",
              "      <td>10</td>\n",
              "      <td>10</td>\n",
              "      <td>10</td>\n",
              "    </tr>\n",
              "    <tr>\n",
              "      <th>top</th>\n",
              "      <td>Aqil Ilhan Putra</td>\n",
              "      <td>JL. Sriwijaya Genuk Baru RT02 RW06,Kec.Tegalsa...</td>\n",
              "      <td>Pemrograman Web Jaringan Komputer Sistem Oper...</td>\n",
              "    </tr>\n",
              "    <tr>\n",
              "      <th>freq</th>\n",
              "      <td>1</td>\n",
              "      <td>1</td>\n",
              "      <td>1</td>\n",
              "    </tr>\n",
              "  </tbody>\n",
              "</table>\n",
              "</div>\n",
              "      <button class=\"colab-df-convert\" onclick=\"convertToInteractive('df-78123ba3-77f8-4277-9780-beb90bd0b959')\"\n",
              "              title=\"Convert this dataframe to an interactive table.\"\n",
              "              style=\"display:none;\">\n",
              "        \n",
              "  <svg xmlns=\"http://www.w3.org/2000/svg\" height=\"24px\"viewBox=\"0 0 24 24\"\n",
              "       width=\"24px\">\n",
              "    <path d=\"M0 0h24v24H0V0z\" fill=\"none\"/>\n",
              "    <path d=\"M18.56 5.44l.94 2.06.94-2.06 2.06-.94-2.06-.94-.94-2.06-.94 2.06-2.06.94zm-11 1L8.5 8.5l.94-2.06 2.06-.94-2.06-.94L8.5 2.5l-.94 2.06-2.06.94zm10 10l.94 2.06.94-2.06 2.06-.94-2.06-.94-.94-2.06-.94 2.06-2.06.94z\"/><path d=\"M17.41 7.96l-1.37-1.37c-.4-.4-.92-.59-1.43-.59-.52 0-1.04.2-1.43.59L10.3 9.45l-7.72 7.72c-.78.78-.78 2.05 0 2.83L4 21.41c.39.39.9.59 1.41.59.51 0 1.02-.2 1.41-.59l7.78-7.78 2.81-2.81c.8-.78.8-2.07 0-2.86zM5.41 20L4 18.59l7.72-7.72 1.47 1.35L5.41 20z\"/>\n",
              "  </svg>\n",
              "      </button>\n",
              "      \n",
              "  <style>\n",
              "    .colab-df-container {\n",
              "      display:flex;\n",
              "      flex-wrap:wrap;\n",
              "      gap: 12px;\n",
              "    }\n",
              "\n",
              "    .colab-df-convert {\n",
              "      background-color: #E8F0FE;\n",
              "      border: none;\n",
              "      border-radius: 50%;\n",
              "      cursor: pointer;\n",
              "      display: none;\n",
              "      fill: #1967D2;\n",
              "      height: 32px;\n",
              "      padding: 0 0 0 0;\n",
              "      width: 32px;\n",
              "    }\n",
              "\n",
              "    .colab-df-convert:hover {\n",
              "      background-color: #E2EBFA;\n",
              "      box-shadow: 0px 1px 2px rgba(60, 64, 67, 0.3), 0px 1px 3px 1px rgba(60, 64, 67, 0.15);\n",
              "      fill: #174EA6;\n",
              "    }\n",
              "\n",
              "    [theme=dark] .colab-df-convert {\n",
              "      background-color: #3B4455;\n",
              "      fill: #D2E3FC;\n",
              "    }\n",
              "\n",
              "    [theme=dark] .colab-df-convert:hover {\n",
              "      background-color: #434B5C;\n",
              "      box-shadow: 0px 1px 3px 1px rgba(0, 0, 0, 0.15);\n",
              "      filter: drop-shadow(0px 1px 2px rgba(0, 0, 0, 0.3));\n",
              "      fill: #FFFFFF;\n",
              "    }\n",
              "  </style>\n",
              "\n",
              "      <script>\n",
              "        const buttonEl =\n",
              "          document.querySelector('#df-78123ba3-77f8-4277-9780-beb90bd0b959 button.colab-df-convert');\n",
              "        buttonEl.style.display =\n",
              "          google.colab.kernel.accessAllowed ? 'block' : 'none';\n",
              "\n",
              "        async function convertToInteractive(key) {\n",
              "          const element = document.querySelector('#df-78123ba3-77f8-4277-9780-beb90bd0b959');\n",
              "          const dataTable =\n",
              "            await google.colab.kernel.invokeFunction('convertToInteractive',\n",
              "                                                     [key], {});\n",
              "          if (!dataTable) return;\n",
              "\n",
              "          const docLinkHtml = 'Like what you see? Visit the ' +\n",
              "            '<a target=\"_blank\" href=https://colab.research.google.com/notebooks/data_table.ipynb>data table notebook</a>'\n",
              "            + ' to learn more about interactive tables.';\n",
              "          element.innerHTML = '';\n",
              "          dataTable['output_type'] = 'display_data';\n",
              "          await google.colab.output.renderOutput(dataTable, element);\n",
              "          const docLink = document.createElement('div');\n",
              "          docLink.innerHTML = docLinkHtml;\n",
              "          element.appendChild(docLink);\n",
              "        }\n",
              "      </script>\n",
              "    </div>\n",
              "  </div>\n",
              "  "
            ]
          },
          "metadata": {},
          "execution_count": 3
        }
      ]
    },
    {
      "cell_type": "code",
      "source": [
        "df.info()"
      ],
      "metadata": {
        "colab": {
          "base_uri": "https://localhost:8080/"
        },
        "id": "o_oGNHs6GICs",
        "outputId": "dd7ac650-14c2-44f0-90b9-4e27e245a2e5"
      },
      "execution_count": 4,
      "outputs": [
        {
          "output_type": "stream",
          "name": "stdout",
          "text": [
            "<class 'pandas.core.frame.DataFrame'>\n",
            "RangeIndex: 10 entries, 0 to 9\n",
            "Data columns (total 3 columns):\n",
            " #   Column  Non-Null Count  Dtype \n",
            "---  ------  --------------  ----- \n",
            " 0   Mitra   10 non-null     object\n",
            " 1   Alamat  10 non-null     object\n",
            " 2   Modul   10 non-null     object\n",
            "dtypes: object(3)\n",
            "memory usage: 368.0+ bytes\n"
          ]
        }
      ]
    },
    {
      "cell_type": "code",
      "source": [
        "def print_description(index):\n",
        "    example = df[df.index == index][['Mitra', 'Alamat','Modul']].values[0]\n",
        "    if len(example) > 0:\n",
        "        print(example[0])\n",
        "        print('Mitra:', example[1])\n",
        "        print('Alamat:', example[2])"
      ],
      "metadata": {
        "id": "6PAEnaZBGNWZ"
      },
      "execution_count": 12,
      "outputs": []
    },
    {
      "cell_type": "code",
      "source": [
        "print_description(1)"
      ],
      "metadata": {
        "colab": {
          "base_uri": "https://localhost:8080/"
        },
        "id": "kalPlQX5Ga_6",
        "outputId": "b44c93b3-a589-4d5f-bccf-4d574c7197f4"
      },
      "execution_count": 13,
      "outputs": [
        {
          "output_type": "stream",
          "name": "stdout",
          "text": [
            "PT Bank Negara Indonesia (Persero) Tbk\n",
            "Mitra: Gedung Grha BNI, Jl. Jend. Sudirman No.10, RT.10/RW.11, Karet Tengsin, Tanah Abang, Central Jakarta City, Jakarta 10220\n",
            "Alamat: Can do attitude Blender Unity Microservices Willingness to learn Kafka Angular Agility Collaboration\n"
          ]
        }
      ]
    },
    {
      "cell_type": "code",
      "source": [
        "print_description(0)"
      ],
      "metadata": {
        "colab": {
          "base_uri": "https://localhost:8080/"
        },
        "id": "sxNMSZ4zHBpV",
        "outputId": "94cd0dfd-a30c-4e7d-fa96-1c8c17d181f2"
      },
      "execution_count": 17,
      "outputs": [
        {
          "output_type": "stream",
          "name": "stdout",
          "text": [
            "Aqil Ilhan Putra\n",
            "Mitra: JL. Sriwijaya Genuk Baru RT02 RW06,Kec.Tegalsari, Kel.Candisari, Semarang\n",
            "Alamat:  Pemrograman Web Jaringan Komputer Sistem Operasi Pemrograman Aplikasi Mobile Text Mining \n"
          ]
        }
      ]
    },
    {
      "cell_type": "code",
      "source": [
        "import nltk\n",
        "nltk.download('stopwords')\n",
        "clean_spcl = re.compile('[/(){}\\[\\]\\|@,;]')\n",
        "clean_symbol = re.compile('[^0-9a-z #+_]')\n",
        "#stopworda = set(stopwords.words('english'))\n",
        "\n",
        "def clean_text(text):\n",
        "    \"\"\"\n",
        "        text: a string\n",
        "        \n",
        "        return: modified initial string\n",
        "    \"\"\"\n",
        "    text = text.lower() # lowercase text\n",
        "    text = clean_spcl.sub(' ', text)\n",
        "    text = clean_symbol.sub('', text)\n",
        "    #text = ' '.join(word for word in text.split() if word not in stopworda) # hapus stopword dari kolom deskripsi\n",
        "    return text\n",
        "    \n",
        "df['modul_pembelajaran_clean'] = df['Modul'].apply(clean_text)"
      ],
      "metadata": {
        "colab": {
          "base_uri": "https://localhost:8080/"
        },
        "id": "jBJvFpiTILAq",
        "outputId": "8f8034bc-7aec-4381-d724-ac1e7493bcb9"
      },
      "execution_count": 22,
      "outputs": [
        {
          "output_type": "stream",
          "name": "stderr",
          "text": [
            "[nltk_data] Downloading package stopwords to /root/nltk_data...\n",
            "[nltk_data]   Unzipping corpora/stopwords.zip.\n"
          ]
        }
      ]
    },
    {
      "cell_type": "code",
      "source": [
        "df.head()"
      ],
      "metadata": {
        "colab": {
          "base_uri": "https://localhost:8080/",
          "height": 337
        },
        "id": "yuEXGBFDITTK",
        "outputId": "bc130ebe-9931-4f0b-faad-21a4c5e19c01"
      },
      "execution_count": 23,
      "outputs": [
        {
          "output_type": "execute_result",
          "data": {
            "text/plain": [
              "                                    Mitra  \\\n",
              "0                        Aqil Ilhan Putra   \n",
              "1  PT Bank Negara Indonesia (Persero) Tbk   \n",
              "2               PT Zona Edukasi Nusantara   \n",
              "3                 PT Global Tiket Network   \n",
              "4   PT. IlmuKomputerCom Braindevs Sistema   \n",
              "\n",
              "                                              Alamat  \\\n",
              "0  JL. Sriwijaya Genuk Baru RT02 RW06,Kec.Tegalsa...   \n",
              "1  Gedung Grha BNI, Jl. Jend. Sudirman No.10, RT....   \n",
              "2  Graha Aktiva, Ground Floor Jalan HR Rasuna Sai...   \n",
              "3  Wisma Barito Pacific II Lantai. 8, Jalan Letna...   \n",
              "4  Menara Bidakara 1 Lantai 2, Jl. Gatot Subroto ...   \n",
              "\n",
              "                                               Modul  \\\n",
              "0   Pemrograman Web Jaringan Komputer Sistem Oper...   \n",
              "1  Can do attitude Blender Unity Microservices Wi...   \n",
              "2  Kemampuan Literasi Kemampuan Numerasi Komunika...   \n",
              "3  Mastery Design Producing Results Business Know...   \n",
              "4  Critical Thinking Team Work Communication Skil...   \n",
              "\n",
              "                            modul_pembelajaran_clean  \n",
              "0   pemrograman web jaringan komputer sistem oper...  \n",
              "1  can do attitude blender unity microservices wi...  \n",
              "2  kemampuan literasi kemampuan numerasi komunika...  \n",
              "3  mastery design producing results business know...  \n",
              "4  critical thinking team work communication skil...  "
            ],
            "text/html": [
              "\n",
              "  <div id=\"df-930b9e49-7ef6-4e4b-a1b1-46d384c044cd\">\n",
              "    <div class=\"colab-df-container\">\n",
              "      <div>\n",
              "<style scoped>\n",
              "    .dataframe tbody tr th:only-of-type {\n",
              "        vertical-align: middle;\n",
              "    }\n",
              "\n",
              "    .dataframe tbody tr th {\n",
              "        vertical-align: top;\n",
              "    }\n",
              "\n",
              "    .dataframe thead th {\n",
              "        text-align: right;\n",
              "    }\n",
              "</style>\n",
              "<table border=\"1\" class=\"dataframe\">\n",
              "  <thead>\n",
              "    <tr style=\"text-align: right;\">\n",
              "      <th></th>\n",
              "      <th>Mitra</th>\n",
              "      <th>Alamat</th>\n",
              "      <th>Modul</th>\n",
              "      <th>modul_pembelajaran_clean</th>\n",
              "    </tr>\n",
              "  </thead>\n",
              "  <tbody>\n",
              "    <tr>\n",
              "      <th>0</th>\n",
              "      <td>Aqil Ilhan Putra</td>\n",
              "      <td>JL. Sriwijaya Genuk Baru RT02 RW06,Kec.Tegalsa...</td>\n",
              "      <td>Pemrograman Web Jaringan Komputer Sistem Oper...</td>\n",
              "      <td>pemrograman web jaringan komputer sistem oper...</td>\n",
              "    </tr>\n",
              "    <tr>\n",
              "      <th>1</th>\n",
              "      <td>PT Bank Negara Indonesia (Persero) Tbk</td>\n",
              "      <td>Gedung Grha BNI, Jl. Jend. Sudirman No.10, RT....</td>\n",
              "      <td>Can do attitude Blender Unity Microservices Wi...</td>\n",
              "      <td>can do attitude blender unity microservices wi...</td>\n",
              "    </tr>\n",
              "    <tr>\n",
              "      <th>2</th>\n",
              "      <td>PT Zona Edukasi Nusantara</td>\n",
              "      <td>Graha Aktiva, Ground Floor Jalan HR Rasuna Sai...</td>\n",
              "      <td>Kemampuan Literasi Kemampuan Numerasi Komunika...</td>\n",
              "      <td>kemampuan literasi kemampuan numerasi komunika...</td>\n",
              "    </tr>\n",
              "    <tr>\n",
              "      <th>3</th>\n",
              "      <td>PT Global Tiket Network</td>\n",
              "      <td>Wisma Barito Pacific II Lantai. 8, Jalan Letna...</td>\n",
              "      <td>Mastery Design Producing Results Business Know...</td>\n",
              "      <td>mastery design producing results business know...</td>\n",
              "    </tr>\n",
              "    <tr>\n",
              "      <th>4</th>\n",
              "      <td>PT. IlmuKomputerCom Braindevs Sistema</td>\n",
              "      <td>Menara Bidakara 1 Lantai 2, Jl. Gatot Subroto ...</td>\n",
              "      <td>Critical Thinking Team Work Communication Skil...</td>\n",
              "      <td>critical thinking team work communication skil...</td>\n",
              "    </tr>\n",
              "  </tbody>\n",
              "</table>\n",
              "</div>\n",
              "      <button class=\"colab-df-convert\" onclick=\"convertToInteractive('df-930b9e49-7ef6-4e4b-a1b1-46d384c044cd')\"\n",
              "              title=\"Convert this dataframe to an interactive table.\"\n",
              "              style=\"display:none;\">\n",
              "        \n",
              "  <svg xmlns=\"http://www.w3.org/2000/svg\" height=\"24px\"viewBox=\"0 0 24 24\"\n",
              "       width=\"24px\">\n",
              "    <path d=\"M0 0h24v24H0V0z\" fill=\"none\"/>\n",
              "    <path d=\"M18.56 5.44l.94 2.06.94-2.06 2.06-.94-2.06-.94-.94-2.06-.94 2.06-2.06.94zm-11 1L8.5 8.5l.94-2.06 2.06-.94-2.06-.94L8.5 2.5l-.94 2.06-2.06.94zm10 10l.94 2.06.94-2.06 2.06-.94-2.06-.94-.94-2.06-.94 2.06-2.06.94z\"/><path d=\"M17.41 7.96l-1.37-1.37c-.4-.4-.92-.59-1.43-.59-.52 0-1.04.2-1.43.59L10.3 9.45l-7.72 7.72c-.78.78-.78 2.05 0 2.83L4 21.41c.39.39.9.59 1.41.59.51 0 1.02-.2 1.41-.59l7.78-7.78 2.81-2.81c.8-.78.8-2.07 0-2.86zM5.41 20L4 18.59l7.72-7.72 1.47 1.35L5.41 20z\"/>\n",
              "  </svg>\n",
              "      </button>\n",
              "      \n",
              "  <style>\n",
              "    .colab-df-container {\n",
              "      display:flex;\n",
              "      flex-wrap:wrap;\n",
              "      gap: 12px;\n",
              "    }\n",
              "\n",
              "    .colab-df-convert {\n",
              "      background-color: #E8F0FE;\n",
              "      border: none;\n",
              "      border-radius: 50%;\n",
              "      cursor: pointer;\n",
              "      display: none;\n",
              "      fill: #1967D2;\n",
              "      height: 32px;\n",
              "      padding: 0 0 0 0;\n",
              "      width: 32px;\n",
              "    }\n",
              "\n",
              "    .colab-df-convert:hover {\n",
              "      background-color: #E2EBFA;\n",
              "      box-shadow: 0px 1px 2px rgba(60, 64, 67, 0.3), 0px 1px 3px 1px rgba(60, 64, 67, 0.15);\n",
              "      fill: #174EA6;\n",
              "    }\n",
              "\n",
              "    [theme=dark] .colab-df-convert {\n",
              "      background-color: #3B4455;\n",
              "      fill: #D2E3FC;\n",
              "    }\n",
              "\n",
              "    [theme=dark] .colab-df-convert:hover {\n",
              "      background-color: #434B5C;\n",
              "      box-shadow: 0px 1px 3px 1px rgba(0, 0, 0, 0.15);\n",
              "      filter: drop-shadow(0px 1px 2px rgba(0, 0, 0, 0.3));\n",
              "      fill: #FFFFFF;\n",
              "    }\n",
              "  </style>\n",
              "\n",
              "      <script>\n",
              "        const buttonEl =\n",
              "          document.querySelector('#df-930b9e49-7ef6-4e4b-a1b1-46d384c044cd button.colab-df-convert');\n",
              "        buttonEl.style.display =\n",
              "          google.colab.kernel.accessAllowed ? 'block' : 'none';\n",
              "\n",
              "        async function convertToInteractive(key) {\n",
              "          const element = document.querySelector('#df-930b9e49-7ef6-4e4b-a1b1-46d384c044cd');\n",
              "          const dataTable =\n",
              "            await google.colab.kernel.invokeFunction('convertToInteractive',\n",
              "                                                     [key], {});\n",
              "          if (!dataTable) return;\n",
              "\n",
              "          const docLinkHtml = 'Like what you see? Visit the ' +\n",
              "            '<a target=\"_blank\" href=https://colab.research.google.com/notebooks/data_table.ipynb>data table notebook</a>'\n",
              "            + ' to learn more about interactive tables.';\n",
              "          element.innerHTML = '';\n",
              "          dataTable['output_type'] = 'display_data';\n",
              "          await google.colab.output.renderOutput(dataTable, element);\n",
              "          const docLink = document.createElement('div');\n",
              "          docLink.innerHTML = docLinkHtml;\n",
              "          element.appendChild(docLink);\n",
              "        }\n",
              "      </script>\n",
              "    </div>\n",
              "  </div>\n",
              "  "
            ]
          },
          "metadata": {},
          "execution_count": 23
        }
      ]
    },
    {
      "cell_type": "code",
      "source": [
        "# Deskripsi kedua (Setelah preprocessing)\n",
        "def print_description_clean(index):\n",
        "    example = df[df.index == index][['modul_pembelajaran_clean', 'Mitra','Alamat']].values[0]\n",
        "    if len(example) > 0:\n",
        "        print(example[0])\n",
        "        print('Mitra:', example[1])\n",
        "        print('Alamat:', example[2])"
      ],
      "metadata": {
        "id": "Cmi0DRLnIZrY"
      },
      "execution_count": 24,
      "outputs": []
    },
    {
      "cell_type": "code",
      "source": [
        "print_description_clean(1)"
      ],
      "metadata": {
        "colab": {
          "base_uri": "https://localhost:8080/"
        },
        "id": "aQ5gOvcDIfPd",
        "outputId": "e47b468a-b6cc-466d-bad0-3ad05076df26"
      },
      "execution_count": 25,
      "outputs": [
        {
          "output_type": "stream",
          "name": "stdout",
          "text": [
            "can do attitude blender unity microservices willingness to learn kafka angular agility collaboration\n",
            "Mitra: PT Bank Negara Indonesia (Persero) Tbk\n",
            "Alamat: Gedung Grha BNI, Jl. Jend. Sudirman No.10, RT.10/RW.11, Karet Tengsin, Tanah Abang, Central Jakarta City, Jakarta 10220\n"
          ]
        }
      ]
    },
    {
      "cell_type": "code",
      "source": [
        "print_description(0)"
      ],
      "metadata": {
        "colab": {
          "base_uri": "https://localhost:8080/"
        },
        "id": "0Lfh6FwXIsuM",
        "outputId": "17ac9f39-124a-4587-a8c0-03119274e0a6"
      },
      "execution_count": 27,
      "outputs": [
        {
          "output_type": "stream",
          "name": "stdout",
          "text": [
            "Aqil Ilhan Putra\n",
            "Mitra: JL. Sriwijaya Genuk Baru RT02 RW06,Kec.Tegalsari, Kel.Candisari, Semarang\n",
            "Alamat:  Pemrograman Web Jaringan Komputer Sistem Operasi Pemrograman Aplikasi Mobile Text Mining \n"
          ]
        }
      ]
    },
    {
      "cell_type": "code",
      "source": [
        "df.set_index('Mitra', inplace=True)\n",
        "tf = TfidfVectorizer(analyzer='word', ngram_range=(1, 3), min_df=0, stop_words='english')\n",
        "tfidf_matrix = tf.fit_transform(df['modul_pembelajaran_clean'])\n",
        "cos_sim = cosine_similarity(tfidf_matrix, tfidf_matrix)\n",
        "cos_sim"
      ],
      "metadata": {
        "colab": {
          "base_uri": "https://localhost:8080/"
        },
        "id": "00CSIXtFIwoq",
        "outputId": "187623c2-9d80-46e7-ee10-0ab74477d198"
      },
      "execution_count": 28,
      "outputs": [
        {
          "output_type": "execute_result",
          "data": {
            "text/plain": [
              "array([[1.        , 0.        , 0.        , 0.        , 0.        ,\n",
              "        0.02126548, 0.        , 0.        , 0.        , 0.04317049],\n",
              "       [0.        , 1.        , 0.        , 0.        , 0.        ,\n",
              "        0.        , 0.        , 0.        , 0.        , 0.        ],\n",
              "       [0.        , 0.        , 1.        , 0.        , 0.        ,\n",
              "        0.        , 0.01612123, 0.        , 0.        , 0.04069835],\n",
              "       [0.        , 0.        , 0.        , 1.        , 0.1005978 ,\n",
              "        0.        , 0.        , 0.        , 0.        , 0.        ],\n",
              "       [0.        , 0.        , 0.        , 0.1005978 , 1.        ,\n",
              "        0.        , 0.        , 0.        , 0.        , 0.        ],\n",
              "       [0.02126548, 0.        , 0.        , 0.        , 0.        ,\n",
              "        1.        , 0.        , 0.        , 0.        , 0.        ],\n",
              "       [0.        , 0.        , 0.01612123, 0.        , 0.        ,\n",
              "        0.        , 1.        , 0.03548034, 0.04271011, 0.        ],\n",
              "       [0.        , 0.        , 0.        , 0.        , 0.        ,\n",
              "        0.        , 0.03548034, 1.        , 0.        , 0.        ],\n",
              "       [0.        , 0.        , 0.        , 0.        , 0.        ,\n",
              "        0.        , 0.04271011, 0.        , 1.        , 0.        ],\n",
              "       [0.04317049, 0.        , 0.04069835, 0.        , 0.        ,\n",
              "        0.        , 0.        , 0.        , 0.        , 1.        ]])"
            ]
          },
          "metadata": {},
          "execution_count": 28
        }
      ]
    },
    {
      "cell_type": "code",
      "source": [
        "# Set index utama di kolom 'name'\n",
        "indices = pd.Series(df.index)\n",
        "indices[:50]"
      ],
      "metadata": {
        "colab": {
          "base_uri": "https://localhost:8080/"
        },
        "id": "R7tZ7ESgI24y",
        "outputId": "4fdee44e-5087-4c98-b885-7f775182d2c0"
      },
      "execution_count": 29,
      "outputs": [
        {
          "output_type": "execute_result",
          "data": {
            "text/plain": [
              "0                                     Aqil Ilhan Putra\n",
              "1               PT Bank Negara Indonesia (Persero) Tbk\n",
              "2                            PT Zona Edukasi Nusantara\n",
              "3                              PT Global Tiket Network\n",
              "4                PT. IlmuKomputerCom Braindevs Sistema\n",
              "5                 PT RPN Pusat Penelitian Kelapa Sawit\n",
              "6                    PT Hacktivate Teknologi Indonesia\n",
              "7    PT Panji Edukasi Nusantara / Apple Developer A...\n",
              "8                              PT Ruang Raya Indonesia\n",
              "9                              PT Marka Kreasi Persada\n",
              "Name: Mitra, dtype: object"
            ]
          },
          "metadata": {},
          "execution_count": 29
        }
      ]
    },
    {
      "cell_type": "code",
      "source": [
        "def recommendations(name, cos_sim = cos_sim):\n",
        "    \n",
        "    recommended_modul = []\n",
        "    \n",
        "    # Mengambil nama modul berdasarkan variabel indicies\n",
        "    idx = indices[indices == name].index[0]\n",
        "\n",
        "    # Membuat series berdasarkan skor kesamaan\n",
        "    score_series = pd.Series(cos_sim[idx]).sort_values(ascending = False)\n",
        "\n",
        "    # mengambil index dan dibuat 3 baris rekomendasi terbaik\n",
        "    top_10_indexes = list(score_series.iloc[1:4].index)\n",
        "    \n",
        "    for i in top_10_indexes:\n",
        "        recommended_modul.append(list(df.index)[i])\n",
        "        \n",
        "    return recommended_modul"
      ],
      "metadata": {
        "id": "fzwyVY40I9sX"
      },
      "execution_count": 30,
      "outputs": []
    },
    {
      "cell_type": "code",
      "source": [
        "recommendations('Aqil Ilhan Putra')"
      ],
      "metadata": {
        "colab": {
          "base_uri": "https://localhost:8080/"
        },
        "id": "MQSXVyQbJDno",
        "outputId": "2e984a61-6293-467a-bbf1-51436205042b"
      },
      "execution_count": 31,
      "outputs": [
        {
          "output_type": "execute_result",
          "data": {
            "text/plain": [
              "['PT Marka Kreasi Persada',\n",
              " 'PT RPN Pusat Penelitian Kelapa Sawit',\n",
              " 'PT Bank Negara Indonesia (Persero) Tbk']"
            ]
          },
          "metadata": {},
          "execution_count": 31
        }
      ]
    },
    {
      "cell_type": "code",
      "source": [
        "recommendations(\"PT Bank Negara Indonesia (Persero) Tbk\")"
      ],
      "metadata": {
        "colab": {
          "base_uri": "https://localhost:8080/"
        },
        "id": "rFOS0INmJNoJ",
        "outputId": "831045c4-689d-4cd1-9bf2-2389ebd36085"
      },
      "execution_count": 33,
      "outputs": [
        {
          "output_type": "execute_result",
          "data": {
            "text/plain": [
              "['Aqil Ilhan Putra', 'PT Zona Edukasi Nusantara', 'PT Global Tiket Network']"
            ]
          },
          "metadata": {},
          "execution_count": 33
        }
      ]
    },
    {
      "cell_type": "code",
      "source": [
        "recommendations(\"PT Ruang Raya Indonesia\")"
      ],
      "metadata": {
        "colab": {
          "base_uri": "https://localhost:8080/"
        },
        "id": "-Cp18KInJk6F",
        "outputId": "05a4a5ec-f9b7-48f8-87ab-0c7331cad0f4"
      },
      "execution_count": 35,
      "outputs": [
        {
          "output_type": "execute_result",
          "data": {
            "text/plain": [
              "['PT Hacktivate Teknologi Indonesia',\n",
              " 'Aqil Ilhan Putra',\n",
              " 'PT Bank Negara Indonesia (Persero) Tbk']"
            ]
          },
          "metadata": {},
          "execution_count": 35
        }
      ]
    }
  ]
}